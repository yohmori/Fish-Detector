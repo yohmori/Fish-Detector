{
 "cells": [
  {
   "cell_type": "code",
   "execution_count": 1,
   "metadata": {},
   "outputs": [],
   "source": [
    "import os\n",
    "import random\n",
    "import shutil"
   ]
  },
  {
   "cell_type": "code",
   "execution_count": 2,
   "metadata": {},
   "outputs": [],
   "source": [
    "# Set the paths for the source folders, destination folders, and the desired percentage\n",
    "source_folder_1 = \"siamese_and_rummy\"   # IMAGE FILE\n",
    "image_dest_folder = \"data/images/val\"\n",
    "\n",
    "source_folder_2 = \"more_siamese_rummynose/obj_train_data\" # LABEL FILE\n",
    "label_dest_folder = \"data/labels/val\"\n",
    "percentage = 0.3"
   ]
  },
  {
   "cell_type": "code",
   "execution_count": 3,
   "metadata": {},
   "outputs": [],
   "source": [
    "# Get a list of all the files in source_folder_1\n",
    "file_list_1 = os.listdir(source_folder_1)\n",
    "\n",
    "# Calculate the number of files to randomly select\n",
    "num_files_to_select = int(len(file_list_1) * percentage)\n",
    "\n",
    "# Randomly select files from source_folder_1\n",
    "to_image_val_list_jpg = random.sample(file_list_1, num_files_to_select)"
   ]
  },
  {
   "cell_type": "code",
   "execution_count": 4,
   "metadata": {},
   "outputs": [],
   "source": [
    "to_image_val_list_txt = []\n",
    "\n",
    "for i in to_image_val_list_jpg:\n",
    "    to_image_val_list_txt.append(i[:-4]+\".txt\")"
   ]
  },
  {
   "cell_type": "code",
   "execution_count": 5,
   "metadata": {},
   "outputs": [
    {
     "data": {
      "text/plain": [
       "'siamese_and_rummy'"
      ]
     },
     "execution_count": 5,
     "metadata": {},
     "output_type": "execute_result"
    }
   ],
   "source": [
    "source_folder_1"
   ]
  },
  {
   "cell_type": "code",
   "execution_count": 6,
   "metadata": {},
   "outputs": [],
   "source": [
    "# Move selected files from source_folder_1 to the image destination folder\n",
    "for i in to_image_val_list_jpg:\n",
    "    source_path = os.path.join(source_folder_1, i)\n",
    "    dest_path = os.path.join(image_dest_folder, i)\n",
    "    shutil.move(source_path, dest_path)"
   ]
  },
  {
   "cell_type": "code",
   "execution_count": 8,
   "metadata": {},
   "outputs": [],
   "source": [
    "# Move the same filenames from source_folder_2 to the label destination folder\n",
    "for j in to_image_val_list_txt:\n",
    "    source_path = os.path.join(source_folder_2, j)\n",
    "    dest_path = os.path.join(label_dest_folder, j)\n",
    "    \n",
    "    try:\n",
    "        shutil.move(source_path, dest_path)\n",
    "    except:\n",
    "        pass"
   ]
  },
  {
   "cell_type": "code",
   "execution_count": null,
   "metadata": {},
   "outputs": [],
   "source": []
  }
 ],
 "metadata": {
  "kernelspec": {
   "display_name": "FishDetectEnv",
   "language": "python",
   "name": "python3"
  },
  "language_info": {
   "codemirror_mode": {
    "name": "ipython",
    "version": 3
   },
   "file_extension": ".py",
   "mimetype": "text/x-python",
   "name": "python",
   "nbconvert_exporter": "python",
   "pygments_lexer": "ipython3",
   "version": "3.11.3"
  },
  "orig_nbformat": 4
 },
 "nbformat": 4,
 "nbformat_minor": 2
}
